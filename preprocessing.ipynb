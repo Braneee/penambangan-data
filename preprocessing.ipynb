{
  "nbformat": 4,
  "nbformat_minor": 0,
  "metadata": {
    "colab": {
      "provenance": []
    },
    "kernelspec": {
      "name": "python3",
      "display_name": "Python 3"
    },
    "language_info": {
      "name": "python"
    }
  },
  "cells": [
    {
      "cell_type": "code",
      "execution_count": 1,
      "metadata": {
        "id": "6Pi_mf6zuoYj"
      },
      "outputs": [],
      "source": [
        "import numpy as np\n",
        "import matplotlib.pyplot as plt\n",
        "import pandas as pd"
      ]
    },
    {
      "cell_type": "code",
      "source": [
        "dataset = pd.read_csv('data_coba.csv', delimiter=';')\n",
        "x = dataset.iloc[:, :-1].values\n",
        "y = dataset.iloc[:, -1].values"
      ],
      "metadata": {
        "id": "f9xnv8SpXj-O"
      },
      "execution_count": 11,
      "outputs": []
    },
    {
      "cell_type": "code",
      "source": [
        "print (x)"
      ],
      "metadata": {
        "colab": {
          "base_uri": "https://localhost:8080/"
        },
        "id": "EifDmE1-ZHT-",
        "outputId": "10aa5d2c-5eaa-40b0-b01b-fff980439cb3"
      },
      "execution_count": 12,
      "outputs": [
        {
          "output_type": "stream",
          "name": "stdout",
          "text": [
            "[['France' 40.0 45000.0]\n",
            " ['Spain' 56.0 56000.0]\n",
            " ['Germany' nan 33000.0]\n",
            " ['France' 34.0 18000.0]\n",
            " ['Spain' 24.0 31000.0]\n",
            " ['France' 55.0 nan]\n",
            " ['Germany' 35.0 22000.0]\n",
            " ['France' 70.0 42000.0]]\n"
          ]
        }
      ]
    },
    {
      "cell_type": "code",
      "source": [
        "print (y)"
      ],
      "metadata": {
        "colab": {
          "base_uri": "https://localhost:8080/"
        },
        "id": "2tWw102IaRdv",
        "outputId": "13ed7116-ee00-41af-8509-b635da8365cf"
      },
      "execution_count": 13,
      "outputs": [
        {
          "output_type": "stream",
          "name": "stdout",
          "text": [
            "['No' 'Yes' 'No' 'Yes' 'Yes' 'No' 'No' 'Yes']\n"
          ]
        }
      ]
    },
    {
      "cell_type": "code",
      "source": [
        "from sklearn.impute import SimpleImputer\n",
        "imputer = SimpleImputer(missing_values=np.nan, strategy='mean')\n",
        "imputer.fit(x[:, 1:3])\n",
        "x[:, 1:3] = imputer.transform(x[:, 1:3])"
      ],
      "metadata": {
        "id": "2Iq5pm9raXH3"
      },
      "execution_count": 15,
      "outputs": []
    },
    {
      "cell_type": "code",
      "source": [
        "print (x)"
      ],
      "metadata": {
        "colab": {
          "base_uri": "https://localhost:8080/"
        },
        "id": "0YB_mRxIdEEB",
        "outputId": "a6e02b23-224f-4d1f-dd74-89f740c339ca"
      },
      "execution_count": 16,
      "outputs": [
        {
          "output_type": "stream",
          "name": "stdout",
          "text": [
            "[['France' 40.0 45000.0]\n",
            " ['Spain' 56.0 56000.0]\n",
            " ['Germany' 44.857142857142854 33000.0]\n",
            " ['France' 34.0 18000.0]\n",
            " ['Spain' 24.0 31000.0]\n",
            " ['France' 55.0 35285.71428571428]\n",
            " ['Germany' 35.0 22000.0]\n",
            " ['France' 70.0 42000.0]]\n"
          ]
        }
      ]
    },
    {
      "cell_type": "code",
      "source": [
        "from sklearn.compose import ColumnTransformer\n",
        "from sklearn.preprocessing import OneHotEncoder\n",
        "\n",
        "ct = ColumnTransformer(transformers=[('encoder', OneHotEncoder(), [0])], remainder='passthrough')\n",
        "x = np.array(ct.fit_transform(x))"
      ],
      "metadata": {
        "id": "KW0_skyadcuV"
      },
      "execution_count": 18,
      "outputs": []
    },
    {
      "cell_type": "code",
      "source": [
        "print (x)"
      ],
      "metadata": {
        "colab": {
          "base_uri": "https://localhost:8080/"
        },
        "id": "OUO2AGtifaM9",
        "outputId": "ded77c02-74e7-4dba-eebb-34f9525016bb"
      },
      "execution_count": 19,
      "outputs": [
        {
          "output_type": "stream",
          "name": "stdout",
          "text": [
            "[[1.0 0.0 0.0 40.0 45000.0]\n",
            " [0.0 0.0 1.0 56.0 56000.0]\n",
            " [0.0 1.0 0.0 44.857142857142854 33000.0]\n",
            " [1.0 0.0 0.0 34.0 18000.0]\n",
            " [0.0 0.0 1.0 24.0 31000.0]\n",
            " [1.0 0.0 0.0 55.0 35285.71428571428]\n",
            " [0.0 1.0 0.0 35.0 22000.0]\n",
            " [1.0 0.0 0.0 70.0 42000.0]]\n"
          ]
        }
      ]
    },
    {
      "cell_type": "code",
      "source": [
        "from sklearn.preprocessing import LabelEncoder\n",
        "le = LabelEncoder()\n",
        "y = le.fit_transform(y)"
      ],
      "metadata": {
        "id": "T5ySKAw2fcXX"
      },
      "execution_count": 20,
      "outputs": []
    },
    {
      "cell_type": "code",
      "source": [
        "print(y)"
      ],
      "metadata": {
        "colab": {
          "base_uri": "https://localhost:8080/"
        },
        "id": "VULkynk7jH_k",
        "outputId": "a4d6b6a6-7be6-48c8-edc6-205803163665"
      },
      "execution_count": 21,
      "outputs": [
        {
          "output_type": "stream",
          "name": "stdout",
          "text": [
            "[0 1 0 1 1 0 0 1]\n"
          ]
        }
      ]
    },
    {
      "cell_type": "code",
      "source": [
        "from sklearn.model_selection import train_test_split\n",
        "x_train, x_test, y_train, y_test = train_test_split(x, y, test_size = 0.2, random_state = 1)"
      ],
      "metadata": {
        "id": "Ey30Iap0jLha"
      },
      "execution_count": 22,
      "outputs": []
    },
    {
      "cell_type": "code",
      "source": [
        "print (x_train)"
      ],
      "metadata": {
        "colab": {
          "base_uri": "https://localhost:8080/"
        },
        "id": "2RFJAxPrkMKY",
        "outputId": "69d8dcd2-3dcc-4f1f-d203-e94c87750a18"
      },
      "execution_count": 23,
      "outputs": [
        {
          "output_type": "stream",
          "name": "stdout",
          "text": [
            "[[0.0 0.0 1.0 56.0 56000.0]\n",
            " [0.0 1.0 0.0 35.0 22000.0]\n",
            " [1.0 0.0 0.0 40.0 45000.0]\n",
            " [0.0 0.0 1.0 24.0 31000.0]\n",
            " [1.0 0.0 0.0 34.0 18000.0]\n",
            " [1.0 0.0 0.0 55.0 35285.71428571428]]\n"
          ]
        }
      ]
    },
    {
      "cell_type": "code",
      "source": [
        "print (x_test)"
      ],
      "metadata": {
        "colab": {
          "base_uri": "https://localhost:8080/"
        },
        "id": "D5r2UBMBkU3M",
        "outputId": "8611a27b-6f96-47ea-af56-0798d648dd85"
      },
      "execution_count": 24,
      "outputs": [
        {
          "output_type": "stream",
          "name": "stdout",
          "text": [
            "[[1.0 0.0 0.0 70.0 42000.0]\n",
            " [0.0 1.0 0.0 44.857142857142854 33000.0]]\n"
          ]
        }
      ]
    },
    {
      "cell_type": "code",
      "source": [
        "print (y_train)"
      ],
      "metadata": {
        "colab": {
          "base_uri": "https://localhost:8080/"
        },
        "id": "mcjkYRGkkXwA",
        "outputId": "41cbe767-2323-4f4b-d5a4-e18cecae065b"
      },
      "execution_count": 25,
      "outputs": [
        {
          "output_type": "stream",
          "name": "stdout",
          "text": [
            "[1 0 0 1 1 0]\n"
          ]
        }
      ]
    },
    {
      "cell_type": "code",
      "source": [
        "print (y_test)"
      ],
      "metadata": {
        "colab": {
          "base_uri": "https://localhost:8080/"
        },
        "id": "4NUkr7HKkof4",
        "outputId": "af70d714-3771-47df-869f-a0fe9d024343"
      },
      "execution_count": 26,
      "outputs": [
        {
          "output_type": "stream",
          "name": "stdout",
          "text": [
            "[1 0]\n"
          ]
        }
      ]
    },
    {
      "cell_type": "code",
      "source": [
        "from sklearn.preprocessing import StandardScaler\n",
        "sc = StandardScaler()\n",
        "x_train[:, 3:] = sc.fit_transform(x_train[:, 3:])\n",
        "x_test[:, 3:] = sc.transform(x_test[:, 3:])"
      ],
      "metadata": {
        "id": "JDK4UpVDk0jN"
      },
      "execution_count": 29,
      "outputs": []
    },
    {
      "cell_type": "code",
      "source": [
        "print(x_train)"
      ],
      "metadata": {
        "colab": {
          "base_uri": "https://localhost:8080/"
        },
        "id": "dqULslKcmK12",
        "outputId": "71275d33-6e9c-4f95-ff96-18239797105e"
      },
      "execution_count": 30,
      "outputs": [
        {
          "output_type": "stream",
          "name": "stdout",
          "text": [
            "[[0.0 0.0 1.0 1.3317957046133195 1.6503021735709569]\n",
            " [0.0 1.0 0.0 -0.4921853690962265 -0.9652710826547104]\n",
            " [1.0 0.0 0.0 -0.057904161070144115 0.8040872965567704]\n",
            " [0.0 0.0 1.0 -1.4476040267536079 -0.27291345600673966]\n",
            " [1.0 0.0 0.0 -0.579041610701443 -1.2729855833871417]\n",
            " [1.0 0.0 0.0 1.2449394630081032 0.05678065192086522]]\n"
          ]
        }
      ]
    },
    {
      "cell_type": "code",
      "source": [
        "print (x_test)"
      ],
      "metadata": {
        "colab": {
          "base_uri": "https://localhost:8080/"
        },
        "id": "wDjy5zRVmbKo",
        "outputId": "d8bf5f37-e2b2-44cd-9dbc-c9e7a4eda166"
      },
      "execution_count": 31,
      "outputs": [
        {
          "output_type": "stream",
          "name": "stdout",
          "text": [
            "[[1.0 0.0 0.0 2.5477830870863505 0.5733014210074469]\n",
            " [0.0 1.0 0.0 0.3639690124409071 -0.11905620564052394]]\n"
          ]
        }
      ]
    }
  ]
}
